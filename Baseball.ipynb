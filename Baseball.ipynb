#!/usr/bin/python
# -*- coding: utf-8 -*-

import MySQLdb as mdb
import sys

try:
    con = mdb.connect('128.206.116.195', 'tg4_ro', '?3stEt7!3hUbRa-R', 'tw4_db');

    cur = con.cursor()
    cur.execute("SELECT VERSION()")

    ver = cur.fetchone()

    print ("Database version : %s " % ver)

except mdb.Error as e:

    print ("Error %d: %s" % (e.args[0],e.args[1]))
    sys.exit(1)

finally:

    if con:
        con.close()
        
import csv
import pandas as pd
from collections import Counter

try:
    con = mdb.connect('128.206.116.195', 'tg4_ro', '?3stEt7!3hUbRa-R', 'tw4_db');

    #All tweets pertaining to #WorldSeries
    df = pd.read_sql_query("SELECT t.text, t.created_at, MONTH(created_at) AS theMonth, WEEK(created_at) AS theWeek, DAY(created_at) AS theDay, YEAR(created_at) AS theYear FROM tweet t WHERE job_id=2577", con)

except mdb.Error as e:

    print ("Error %d: %s" % (e.args[0],e.args[1]))
    sys.exit(1)

finally:

    if con:
        con.close()
        
from collections import Counter
from operator import itemgetter

#Find the top words found in the tweets
words = Counter()
for index, row in df.iterrows():
    words.update(row['text'].split())
words.most_common()

#Find the top hashtags found in the tweets
dict(words)
hashdict = dict()
for key,value in words.items():
    if key.startswith('#'):
            hashdict.update({key:value})
print(hashdict)

for key, value in sorted(hashdict.items(), key=itemgetter(1), reverse=True):
    print(key, value)
    
#Find the top mentions found in the tweets
dict(words)
mentionsdict = dict()
for key,value in words.items():
    if key.startswith('@'):
            mentionsdict.update({key:value})
print(mentionsdict)

for key, value in sorted(mentionsdict.items(), key=itemgetter(1), reverse=True):
    print(key, value)
